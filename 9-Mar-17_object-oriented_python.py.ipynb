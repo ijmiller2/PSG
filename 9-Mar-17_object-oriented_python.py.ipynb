{
 "cells": [
  {
   "cell_type": "code",
   "execution_count": null,
   "metadata": {
    "collapsed": true
   },
   "outputs": [],
   "source": [
    "def get_AT(my_dna):\n",
    "    length = len(my_dna)\n",
    "    a_count = my_dna.count(\"A\")\n",
    "    t_count = my_dna.count(\"A\")\n",
    "    at_content = (a_count + t_count) / float(length)\n",
    "    return at_content\n",
    "\n",
    "def complement(my_dna):\n",
    "    replacement1 = my_dna.replace('A','t')\n",
    "    replacement2 = replacement1.replace('T','a')\n",
    "    replacement3 = replacement2.replace('C','g')\n",
    "    replacement4 = replacement3.replace('G','c')\n",
    "    return replacement4.upper()\n",
    "\n",
    "dna_sequence = \"ACTGATCGTTACGTACGAGTCAT\"\n",
    "\n",
    "print(get_AT(dna_sequence))\n",
    "print(complement(dna_sequence))\n"
   ]
  },
  {
   "cell_type": "code",
   "execution_count": 12,
   "metadata": {
    "collapsed": false
   },
   "outputs": [
    {
     "name": "stdout",
     "output_type": "stream",
     "text": [
      "Created a record for ABC1 from Drosophila melanogaster\n",
      "AT is 0.466666666667\n",
      "Complement is TGCATCGACTGCTAG\n"
     ]
    }
   ],
   "source": [
    "class DNARecord(object):\n",
    "    sequence = \"ACGTAGCTGACGATC\"\n",
    "    gene_name = \"ABC1\"\n",
    "    species_name = \"Drosophila melanogaster\"\n",
    "    \n",
    "    def get_AT(self):\n",
    "        length = len(self.sequence)\n",
    "        a_count = self.sequence.count(\"A\")\n",
    "        t_count = self.sequence.count(\"T\")\n",
    "        at_content = (a_count + t_count) / float(length)\n",
    "        return at_content\n",
    "\n",
    "    def complement(self):\n",
    "        replacement1 = self.sequence.replace('A','t')\n",
    "        replacement2 = replacement1.replace('T','a')\n",
    "        replacement3 = replacement2.replace('C','g')\n",
    "        replacement4 = replacement3.replace('G','c')\n",
    "        return replacement4.upper()\n",
    "\n",
    "d = DNARecord()\n",
    "print(\"Created a record for {} from {}\".format(d.gene_name,d.species_name))\n",
    "print(\"AT is {}\".format(d.get_AT()))\n",
    "print(\"Complement is {}\".format(d.complement()))"
   ]
  },
  {
   "cell_type": "code",
   "execution_count": 13,
   "metadata": {
    "collapsed": false
   },
   "outputs": [
    {
     "name": "stdout",
     "output_type": "stream",
     "text": [
      "Created COX1 from Homo sapiens\n",
      "AT is 1.0\n",
      "Complement is TATATAATAATATAATAT\n",
      "Created ATP6 from Gorilla gorilla\n",
      "AT is 0.0\n",
      "Complement is GCCGCCGCGCGCCGCGCCGC\n"
     ]
    }
   ],
   "source": [
    "d1 = DNARecord()\n",
    "d1.sequence = \"ATATATTATTATATTATA\"\n",
    "d1.gene_name = \"COX1\"\n",
    "d1.species_name = \"Homo sapiens\"\n",
    "\n",
    "d2 = DNARecord()\n",
    "d2.sequence = \"CGGCGGCGCGCGGCGCGGCG\"\n",
    "d2.gene_name = \"ATP6\"\n",
    "d2.species_name = \"Gorilla gorilla\"\n",
    "\n",
    "for r in [d1,d2]:\n",
    "    print(\"Created {} from {}\".format(r.gene_name,r.species_name))\n",
    "    print(\"AT is {}\".format(r.get_AT()))\n",
    "    print(\"Complement is {}\".format(r.complement()))"
   ]
  },
  {
   "cell_type": "code",
   "execution_count": 14,
   "metadata": {
    "collapsed": false
   },
   "outputs": [
    {
     "name": "stdout",
     "output_type": "stream",
     "text": [
      "Created COX1 from Homo sapiens\n",
      "AT is 1.0\n",
      "Complement is TATATAATAATATAATAT\n",
      "Created ATP6 from Gorilla gorilla\n",
      "AT is 0.0\n",
      "Complement is GCCGCCGCGCGCCGCGCCGC\n"
     ]
    }
   ],
   "source": [
    "class DNARecord(object):\n",
    "    sequence = \"ACGTAGCTGACGATC\"\n",
    "    gene_name = \"ABC1\"\n",
    "    species_name = \"Drosophila melanogaster\"\n",
    "    \n",
    "    def get_AT(self):\n",
    "        length = len(self.sequence)\n",
    "        a_count = self.sequence.count(\"A\")\n",
    "        t_count = self.sequence.count(\"T\")\n",
    "        at_content = (a_count + t_count) / float(length)\n",
    "        return at_content\n",
    "\n",
    "    def complement(self):\n",
    "        replacement1 = self.sequence.replace('A','t')\n",
    "        replacement2 = replacement1.replace('T','a')\n",
    "        replacement3 = replacement2.replace('C','g')\n",
    "        replacement4 = replacement3.replace('G','c')\n",
    "        return replacement4.upper()\n",
    "    \n",
    "    def set_variables(self, new_seq, new_gene_name, new_species_name):\n",
    "        self.sequence = new_seq\n",
    "        self.gene_name = new_gene_name\n",
    "        self.species_name = new_species_name\n",
    "        \n",
    "\n",
    "d1 = DNARecord()\n",
    "d1.set_variables(\"ATATATTATTATATTATA\",\"COX1\",\"Homo sapiens\")\n",
    "\n",
    "d2 = DNARecord()\n",
    "d2.set_variables(\"CGGCGGCGCGCGGCGCGGCG\",\"ATP6\",\"Gorilla gorilla\")\n",
    "\n",
    "for r in [d1,d2]:\n",
    "    print(\"Created {} from {}\".format(r.gene_name,r.species_name))\n",
    "    print(\"AT is {}\".format(r.get_AT()))\n",
    "    print(\"Complement is {}\".format(r.complement()))"
   ]
  },
  {
   "cell_type": "code",
   "execution_count": 15,
   "metadata": {
    "collapsed": false
   },
   "outputs": [
    {
     "name": "stdout",
     "output_type": "stream",
     "text": [
      "Created COX1 from Homo sapiens\n",
      "AT is 1.0\n",
      "Complement is TATATAATAATATAATAT\n",
      "Created ATP6 from Gorilla gorilla\n",
      "AT is 0.0\n",
      "Complement is GCCGCCGCGCGCCGCGCCGC\n"
     ]
    }
   ],
   "source": [
    "#Remove hardcoded variables\n",
    "class DNARecord(object):\n",
    "    \n",
    "    def get_AT(self):\n",
    "        length = len(self.sequence)\n",
    "        a_count = self.sequence.count(\"A\")\n",
    "        t_count = self.sequence.count(\"T\")\n",
    "        at_content = (a_count + t_count) / float(length)\n",
    "        return at_content\n",
    "\n",
    "    def complement(self):\n",
    "        replacement1 = self.sequence.replace('A','t')\n",
    "        replacement2 = replacement1.replace('T','a')\n",
    "        replacement3 = replacement2.replace('C','g')\n",
    "        replacement4 = replacement3.replace('G','c')\n",
    "        return replacement4.upper()\n",
    "    \n",
    "    def set_variables(self, new_seq, new_gene_name, new_species_name):\n",
    "        self.sequence = new_seq\n",
    "        self.gene_name = new_gene_name\n",
    "        self.species_name = new_species_name\n",
    "        \n",
    "\n",
    "d1 = DNARecord()\n",
    "d1.set_variables(\"ATATATTATTATATTATA\",\"COX1\",\"Homo sapiens\")\n",
    "\n",
    "d2 = DNARecord()\n",
    "d2.set_variables(\"CGGCGGCGCGCGGCGCGGCG\",\"ATP6\",\"Gorilla gorilla\")\n",
    "\n",
    "for r in [d1,d2]:\n",
    "    print(\"Created {} from {}\".format(r.gene_name,r.species_name))\n",
    "    print(\"AT is {}\".format(r.get_AT()))\n",
    "    print(\"Complement is {}\".format(r.complement()))"
   ]
  },
  {
   "cell_type": "code",
   "execution_count": 17,
   "metadata": {
    "collapsed": false
   },
   "outputs": [
    {
     "name": "stdout",
     "output_type": "stream",
     "text": [
      "TATATAATAATATAATAT\n"
     ]
    }
   ],
   "source": [
    "#To avoid problems with setting variables, use \"constructor\"\n",
    "#The constructor (__init__) creates a new object and sets its variables all at once\n",
    "class DNARecord(object):\n",
    "    \n",
    "    def __init__(self,sequence,gene_name,species_name):\n",
    "        self.sequence = sequence\n",
    "        self.gene_name = gene_name\n",
    "        self.species_name = species_name\n",
    "        \n",
    "    def get_AT(self):\n",
    "        length = len(self.sequence)\n",
    "        a_count = self.sequence.count(\"A\")\n",
    "        t_count = self.sequence.count(\"T\")\n",
    "        at_content = (a_count + t_count) / float(length)\n",
    "        return at_content\n",
    "\n",
    "    def complement(self):\n",
    "        replacement1 = self.sequence.replace('A','t')\n",
    "        replacement2 = replacement1.replace('T','a')\n",
    "        replacement3 = replacement2.replace('C','g')\n",
    "        replacement4 = replacement3.replace('G','c')\n",
    "        return replacement4.upper()\n",
    "    \n",
    "d1 = DNARecord(\"ATATATTATTATATTATA\",\"COX1\",\"Homo sapiens\")\n",
    "print d1.complement()"
   ]
  },
  {
   "cell_type": "code",
   "execution_count": 19,
   "metadata": {
    "collapsed": false
   },
   "outputs": [
    {
     "name": "stdout",
     "output_type": "stream",
     "text": [
      ">COX1_Homo_sapiens\n",
      "ATATATTATTATATTATA\n",
      "\n"
     ]
    }
   ],
   "source": [
    "#Add another method, to report fasta sequence\n",
    "class DNARecord(object):\n",
    "    \n",
    "    def __init__(self,sequence,gene_name,species_name):\n",
    "        self.sequence = sequence\n",
    "        self.gene_name = gene_name\n",
    "        self.species_name = species_name\n",
    "        \n",
    "    def get_AT(self):\n",
    "        length = len(self.sequence)\n",
    "        a_count = self.sequence.count(\"A\")\n",
    "        t_count = self.sequence.count(\"T\")\n",
    "        at_content = (a_count + t_count) / float(length)\n",
    "        return at_content\n",
    "\n",
    "    def complement(self):\n",
    "        replacement1 = self.sequence.replace('A','t')\n",
    "        replacement2 = replacement1.replace('T','a')\n",
    "        replacement3 = replacement2.replace('C','g')\n",
    "        replacement4 = replacement3.replace('G','c')\n",
    "        return replacement4.upper()\n",
    "    \n",
    "    def get_fasta(self):\n",
    "        safe_species_name = self.species_name.replace(\" \",\"_\")\n",
    "        header = \">\" + self.gene_name + \"_\" + safe_species_name\n",
    "        return header + \"\\n\" + self.sequence + \"\\n\"\n",
    "    \n",
    "d1 = DNARecord(\"ATATATTATTATATTATA\",\"COX1\",\"Homo sapiens\")\n",
    "print d1.get_fasta()\n"
   ]
  },
  {
   "cell_type": "code",
   "execution_count": 23,
   "metadata": {
    "collapsed": false
   },
   "outputs": [
    {
     "name": "stdout",
     "output_type": "stream",
     "text": [
      ">COX1_Homo_sapiens\n",
      "MSRSLLLRFLLFLLLLPPLP\n",
      "\n",
      "65\n"
     ]
    }
   ],
   "source": [
    "#Now make a class for proteins\n",
    "class ProteinRecord(object):\n",
    "    \n",
    "    def __init__(self,sequence,gene_name,species_name):\n",
    "        self.sequence = sequence\n",
    "        self.gene_name = gene_name\n",
    "        self.species_name = species_name\n",
    "    \n",
    "    def get_fasta(self):\n",
    "        safe_species_name = self.species_name.replace(\" \",\"_\")\n",
    "        header = \">\" + self.gene_name + \"_\" + safe_species_name\n",
    "        return header + \"\\n\" + self.sequence + \"\\n\"\n",
    "    \n",
    "    def get_hydrophobic(self):\n",
    "        aa_list=['A','I','L','M','F','W','Y','V']\n",
    "        protein_length = len(self.sequence)\n",
    "        total = 0\n",
    "        for aa in aa_list:\n",
    "            aa=aa.upper()\n",
    "            aa_count = self.sequence.count(aa)\n",
    "            total = total + aa_count\n",
    "        percentage = total * 100 / protein_length\n",
    "        return percentage\n",
    "    \n",
    "d1 = ProteinRecord('MSRSLLLRFLLFLLLLPPLP','COX1', 'Homo sapiens')\n",
    "print(d1.get_fasta())\n",
    "print(d1.get_hydrophobic())"
   ]
  },
  {
   "cell_type": "code",
   "execution_count": 26,
   "metadata": {
    "collapsed": false
   },
   "outputs": [
    {
     "name": "stdout",
     "output_type": "stream",
     "text": [
      ">COX1_Homo_sapiens\n",
      "MSRSLLLRFLLFLLLLPPLP\n",
      "\n",
      "65\n",
      ">COX1_Homo_sapiens\n",
      "ATATATTATTATATTATA\n",
      "\n",
      "TATATAATAATATAATAT\n"
     ]
    }
   ],
   "source": [
    "#Since protein and nucelotide sequences share many features, create a 'superclass' or 'base class' for \n",
    "#DNARecord and ProteinRecord to inherit from\n",
    "\n",
    "class SequenceRecord(object):\n",
    "    \n",
    "    def __init__(self,sequence,gene_name,species_name):\n",
    "        self.sequence = sequence\n",
    "        self.gene_name = gene_name\n",
    "        self.species_name = species_name\n",
    "    \n",
    "    def get_fasta(self):\n",
    "        safe_species_name = self.species_name.replace(\" \",\"_\")\n",
    "        header = \">\" + self.gene_name + \"_\" + safe_species_name\n",
    "        return header + \"\\n\" + self.sequence + \"\\n\"\n",
    "\n",
    "class ProteinRecord(SequenceRecord):\n",
    "    \n",
    "    def get_fasta(self):\n",
    "        safe_species_name = self.species_name.replace(\" \",\"_\")\n",
    "        header = \">\" + self.gene_name + \"_\" + safe_species_name\n",
    "        return header + \"\\n\" + self.sequence + \"\\n\"\n",
    "    \n",
    "    def get_hydrophobic(self):\n",
    "        aa_list=['A','I','L','M','F','W','Y','V']\n",
    "        protein_length = len(self.sequence)\n",
    "        total = 0\n",
    "        for aa in aa_list:\n",
    "            aa=aa.upper()\n",
    "            aa_count = self.sequence.count(aa)\n",
    "            total = total + aa_count\n",
    "        percentage = total * 100 / protein_length\n",
    "        return percentage\n",
    "    \n",
    "class DNARecord(SequenceRecord):\n",
    "        \n",
    "    def get_AT(self):\n",
    "        length = len(self.sequence)\n",
    "        a_count = self.sequence.count(\"A\")\n",
    "        t_count = self.sequence.count(\"T\")\n",
    "        at_content = (a_count + t_count) / float(length)\n",
    "        return at_content\n",
    "\n",
    "    def complement(self):\n",
    "        replacement1 = self.sequence.replace('A','t')\n",
    "        replacement2 = replacement1.replace('T','a')\n",
    "        replacement3 = replacement2.replace('C','g')\n",
    "        replacement4 = replacement3.replace('G','c')\n",
    "        return replacement4.upper()\n",
    "    \n",
    "p1 = ProteinRecord('MSRSLLLRFLLFLLLLPPLP','COX1', 'Homo sapiens')\n",
    "print(p1.get_fasta())\n",
    "print(p1.get_hydrophobic())\n",
    "\n",
    "d1 = DNARecord(\"ATATATTATTATATTATA\",\"COX1\",\"Homo sapiens\")\n",
    "print(d1.get_fasta())\n",
    "print(d1.complement())"
   ]
  },
  {
   "cell_type": "code",
   "execution_count": null,
   "metadata": {
    "collapsed": true
   },
   "outputs": [],
   "source": []
  }
 ],
 "metadata": {
  "kernelspec": {
   "display_name": "Python 2",
   "language": "python",
   "name": "python2"
  },
  "language_info": {
   "codemirror_mode": {
    "name": "ipython",
    "version": 2
   },
   "file_extension": ".py",
   "mimetype": "text/x-python",
   "name": "python",
   "nbconvert_exporter": "python",
   "pygments_lexer": "ipython2",
   "version": "2.7.12"
  }
 },
 "nbformat": 4,
 "nbformat_minor": 0
}
